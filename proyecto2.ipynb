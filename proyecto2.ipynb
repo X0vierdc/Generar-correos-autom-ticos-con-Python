{
 "cells": [
  {
   "cell_type": "markdown",
   "id": "21161b84",
   "metadata": {},
   "source": [
    "## Buscar los datos de la acción automaticamente"
   ]
  },
  {
   "cell_type": "code",
   "execution_count": null,
   "id": "593cd247",
   "metadata": {},
   "outputs": [],
   "source": [
    "! pip install yfinance\n",
    "! pip install matplotlib"
   ]
  },
  {
   "cell_type": "code",
   "execution_count": 1,
   "id": "0e28be2c",
   "metadata": {},
   "outputs": [],
   "source": [
    "import yfinance"
   ]
  },
  {
   "cell_type": "code",
   "execution_count": 11,
   "id": "5a435b41",
   "metadata": {},
   "outputs": [
    {
     "data": {
      "text/html": [
       "<div>\n",
       "<style scoped>\n",
       "    .dataframe tbody tr th:only-of-type {\n",
       "        vertical-align: middle;\n",
       "    }\n",
       "\n",
       "    .dataframe tbody tr th {\n",
       "        vertical-align: top;\n",
       "    }\n",
       "\n",
       "    .dataframe thead th {\n",
       "        text-align: right;\n",
       "    }\n",
       "</style>\n",
       "<table border=\"1\" class=\"dataframe\">\n",
       "  <thead>\n",
       "    <tr style=\"text-align: right;\">\n",
       "      <th></th>\n",
       "      <th>Open</th>\n",
       "      <th>High</th>\n",
       "      <th>Low</th>\n",
       "      <th>Close</th>\n",
       "      <th>Volume</th>\n",
       "      <th>Dividends</th>\n",
       "      <th>Stock Splits</th>\n",
       "    </tr>\n",
       "    <tr>\n",
       "      <th>Date</th>\n",
       "      <th></th>\n",
       "      <th></th>\n",
       "      <th></th>\n",
       "      <th></th>\n",
       "      <th></th>\n",
       "      <th></th>\n",
       "      <th></th>\n",
       "    </tr>\n",
       "  </thead>\n",
       "  <tbody>\n",
       "    <tr>\n",
       "      <th>2024-11-18 00:00:00-05:00</th>\n",
       "      <td>224.707945</td>\n",
       "      <td>229.187145</td>\n",
       "      <td>224.628135</td>\n",
       "      <td>227.471283</td>\n",
       "      <td>44686000</td>\n",
       "      <td>0.00</td>\n",
       "      <td>0.0</td>\n",
       "    </tr>\n",
       "    <tr>\n",
       "      <th>2024-11-19 00:00:00-05:00</th>\n",
       "      <td>226.433777</td>\n",
       "      <td>229.606133</td>\n",
       "      <td>226.114555</td>\n",
       "      <td>227.730652</td>\n",
       "      <td>36211800</td>\n",
       "      <td>0.00</td>\n",
       "      <td>0.0</td>\n",
       "    </tr>\n",
       "    <tr>\n",
       "      <th>2024-11-20 00:00:00-05:00</th>\n",
       "      <td>227.511173</td>\n",
       "      <td>229.376668</td>\n",
       "      <td>225.346397</td>\n",
       "      <td>228.448914</td>\n",
       "      <td>35169600</td>\n",
       "      <td>0.00</td>\n",
       "      <td>0.0</td>\n",
       "    </tr>\n",
       "    <tr>\n",
       "      <th>2024-11-21 00:00:00-05:00</th>\n",
       "      <td>228.329212</td>\n",
       "      <td>229.606130</td>\n",
       "      <td>225.166842</td>\n",
       "      <td>227.970078</td>\n",
       "      <td>42108300</td>\n",
       "      <td>0.00</td>\n",
       "      <td>0.0</td>\n",
       "    </tr>\n",
       "    <tr>\n",
       "      <th>2024-11-22 00:00:00-05:00</th>\n",
       "      <td>227.511176</td>\n",
       "      <td>230.164779</td>\n",
       "      <td>227.511176</td>\n",
       "      <td>229.316818</td>\n",
       "      <td>38168300</td>\n",
       "      <td>0.00</td>\n",
       "      <td>0.0</td>\n",
       "    </tr>\n",
       "    <tr>\n",
       "      <th>...</th>\n",
       "      <td>...</td>\n",
       "      <td>...</td>\n",
       "      <td>...</td>\n",
       "      <td>...</td>\n",
       "      <td>...</td>\n",
       "      <td>...</td>\n",
       "      <td>...</td>\n",
       "    </tr>\n",
       "    <tr>\n",
       "      <th>2025-05-12 00:00:00-04:00</th>\n",
       "      <td>210.970001</td>\n",
       "      <td>211.270004</td>\n",
       "      <td>206.750000</td>\n",
       "      <td>210.789993</td>\n",
       "      <td>63775800</td>\n",
       "      <td>0.26</td>\n",
       "      <td>0.0</td>\n",
       "    </tr>\n",
       "    <tr>\n",
       "      <th>2025-05-13 00:00:00-04:00</th>\n",
       "      <td>210.429993</td>\n",
       "      <td>213.399994</td>\n",
       "      <td>209.000000</td>\n",
       "      <td>212.929993</td>\n",
       "      <td>51909300</td>\n",
       "      <td>0.00</td>\n",
       "      <td>0.0</td>\n",
       "    </tr>\n",
       "    <tr>\n",
       "      <th>2025-05-14 00:00:00-04:00</th>\n",
       "      <td>212.429993</td>\n",
       "      <td>213.940002</td>\n",
       "      <td>210.580002</td>\n",
       "      <td>212.330002</td>\n",
       "      <td>49325800</td>\n",
       "      <td>0.00</td>\n",
       "      <td>0.0</td>\n",
       "    </tr>\n",
       "    <tr>\n",
       "      <th>2025-05-15 00:00:00-04:00</th>\n",
       "      <td>210.949997</td>\n",
       "      <td>212.960007</td>\n",
       "      <td>209.539993</td>\n",
       "      <td>211.449997</td>\n",
       "      <td>45029500</td>\n",
       "      <td>0.00</td>\n",
       "      <td>0.0</td>\n",
       "    </tr>\n",
       "    <tr>\n",
       "      <th>2025-05-16 00:00:00-04:00</th>\n",
       "      <td>212.360001</td>\n",
       "      <td>212.570007</td>\n",
       "      <td>209.770004</td>\n",
       "      <td>211.259995</td>\n",
       "      <td>53659100</td>\n",
       "      <td>0.00</td>\n",
       "      <td>0.0</td>\n",
       "    </tr>\n",
       "  </tbody>\n",
       "</table>\n",
       "<p>123 rows × 7 columns</p>\n",
       "</div>"
      ],
      "text/plain": [
       "                                 Open        High         Low       Close  \\\n",
       "Date                                                                        \n",
       "2024-11-18 00:00:00-05:00  224.707945  229.187145  224.628135  227.471283   \n",
       "2024-11-19 00:00:00-05:00  226.433777  229.606133  226.114555  227.730652   \n",
       "2024-11-20 00:00:00-05:00  227.511173  229.376668  225.346397  228.448914   \n",
       "2024-11-21 00:00:00-05:00  228.329212  229.606130  225.166842  227.970078   \n",
       "2024-11-22 00:00:00-05:00  227.511176  230.164779  227.511176  229.316818   \n",
       "...                               ...         ...         ...         ...   \n",
       "2025-05-12 00:00:00-04:00  210.970001  211.270004  206.750000  210.789993   \n",
       "2025-05-13 00:00:00-04:00  210.429993  213.399994  209.000000  212.929993   \n",
       "2025-05-14 00:00:00-04:00  212.429993  213.940002  210.580002  212.330002   \n",
       "2025-05-15 00:00:00-04:00  210.949997  212.960007  209.539993  211.449997   \n",
       "2025-05-16 00:00:00-04:00  212.360001  212.570007  209.770004  211.259995   \n",
       "\n",
       "                             Volume  Dividends  Stock Splits  \n",
       "Date                                                          \n",
       "2024-11-18 00:00:00-05:00  44686000       0.00           0.0  \n",
       "2024-11-19 00:00:00-05:00  36211800       0.00           0.0  \n",
       "2024-11-20 00:00:00-05:00  35169600       0.00           0.0  \n",
       "2024-11-21 00:00:00-05:00  42108300       0.00           0.0  \n",
       "2024-11-22 00:00:00-05:00  38168300       0.00           0.0  \n",
       "...                             ...        ...           ...  \n",
       "2025-05-12 00:00:00-04:00  63775800       0.26           0.0  \n",
       "2025-05-13 00:00:00-04:00  51909300       0.00           0.0  \n",
       "2025-05-14 00:00:00-04:00  49325800       0.00           0.0  \n",
       "2025-05-15 00:00:00-04:00  45029500       0.00           0.0  \n",
       "2025-05-16 00:00:00-04:00  53659100       0.00           0.0  \n",
       "\n",
       "[123 rows x 7 columns]"
      ]
     },
     "execution_count": 11,
     "metadata": {},
     "output_type": "execute_result"
    }
   ],
   "source": [
    "yfinance.Ticker(\"AAPL\").history(\"6mo\")"
   ]
  },
  {
   "cell_type": "code",
   "execution_count": 17,
   "id": "7e229e77",
   "metadata": {},
   "outputs": [
    {
     "data": {
      "text/plain": [
       "<Axes: xlabel='Date'>"
      ]
     },
     "execution_count": 17,
     "metadata": {},
     "output_type": "execute_result"
    },
    {
     "data": {
      "image/png": "[encoded data removed]",
      "text/plain": [
       "<Figure size 640x480 with 1 Axes>"
      ]
     },
     "metadata": {},
     "output_type": "display_data"
    }
   ],
   "source": [
    "data = yfinance.Ticker(\"AAPL\").history(\"6mo\")\n",
    "cierre = data.Close\n",
    "cierre.plot()"
   ]
  },
  {
   "cell_type": "code",
   "execution_count": 16,
   "id": "865bacd7",
   "metadata": {},
   "outputs": [
    {
     "data": {
      "text/plain": [
       "Date\n",
       "2024-11-18 00:00:00-05:00    227.471283\n",
       "2024-11-19 00:00:00-05:00    227.730652\n",
       "2024-11-20 00:00:00-05:00    228.448914\n",
       "2024-11-21 00:00:00-05:00    227.970078\n",
       "2024-11-22 00:00:00-05:00    229.316818\n",
       "                                ...    \n",
       "2025-05-12 00:00:00-04:00    210.789993\n",
       "2025-05-13 00:00:00-04:00    212.929993\n",
       "2025-05-14 00:00:00-04:00    212.330002\n",
       "2025-05-15 00:00:00-04:00    211.449997\n",
       "2025-05-16 00:00:00-04:00    211.259995\n",
       "Name: Close, Length: 123, dtype: float64"
      ]
     },
     "execution_count": 16,
     "metadata": {},
     "output_type": "execute_result"
    }
   ],
   "source": [
    "data.Close"
   ]
  },
  {
   "cell_type": "code",
   "execution_count": 33,
   "id": "11b4976d",
   "metadata": {},
   "outputs": [
    {
     "data": {
      "text/plain": [
       "<Axes: xlabel='Date'>"
      ]
     },
     "execution_count": 33,
     "metadata": {},
     "output_type": "execute_result"
    },
    {
     "data": {
      "image/png": "[encoded data removed]",
      "text/plain": [
       "<Figure size 640x480 with 1 Axes>"
      ]
     },
     "metadata": {},
     "output_type": "display_data"
    }
   ],
   "source": [
    "ticker = input(\"Digita el código de la acción: \")\n",
    "\n",
    "data = yfinance.Ticker(ticker).history(\"6mo\")\n",
    "cierre = data.Close\n",
    "cierre.plot()"
   ]
  },
  {
   "cell_type": "markdown",
   "id": "1056a125",
   "metadata": {},
   "source": [
    "## Crear los análisis solicitados"
   ]
  },
  {
   "cell_type": "code",
   "execution_count": 24,
   "id": "7d35908f",
   "metadata": {},
   "outputs": [
    {
     "data": {
      "text/plain": [
       "np.float64(258.4)"
      ]
     },
     "execution_count": 24,
     "metadata": {},
     "output_type": "execute_result"
    }
   ],
   "source": [
    "round(cierre.max(), 2)"
   ]
  },
  {
   "cell_type": "code",
   "execution_count": 23,
   "id": "b6a12639",
   "metadata": {},
   "outputs": [
    {
     "data": {
      "text/plain": [
       "np.float64(172.19)"
      ]
     },
     "execution_count": 23,
     "metadata": {},
     "output_type": "execute_result"
    }
   ],
   "source": [
    "round(cierre.min(), 2)"
   ]
  },
  {
   "cell_type": "code",
   "execution_count": 25,
   "id": "79d87a87",
   "metadata": {},
   "outputs": [
    {
     "data": {
      "text/plain": [
       "np.float64(226.52)"
      ]
     },
     "execution_count": 25,
     "metadata": {},
     "output_type": "execute_result"
    }
   ],
   "source": [
    "round(cierre.mean(), 2)"
   ]
  },
  {
   "cell_type": "code",
   "execution_count": 26,
   "id": "8753e8be",
   "metadata": {},
   "outputs": [
    {
     "name": "stdout",
     "output_type": "stream",
     "text": [
      "258.4\n",
      "172.19\n",
      "226.52\n"
     ]
    }
   ],
   "source": [
    "maxima = round(cierre.max(), 2)\n",
    "minima = round(cierre.min(), 2)\n",
    "valor_medio = round(cierre.mean(),2)\n",
    "\n",
    "print(maxima)\n",
    "print(minima)\n",
    "print(valor_medio)"
   ]
  },
  {
   "cell_type": "markdown",
   "id": "9c729ac4",
   "metadata": {},
   "source": [
    "## Enviar E-mail automáticamente"
   ]
  },
  {
   "cell_type": "code",
   "execution_count": null,
   "id": "f68350c9",
   "metadata": {},
   "outputs": [],
   "source": [
    "!python3 -m pip install pyautogui \n",
    "!python3 -m pip install pyperclip\n"
   ]
  },
  {
   "cell_type": "code",
   "execution_count": 48,
   "id": "62d1e2a2",
   "metadata": {},
   "outputs": [],
   "source": [
    "import pyautogui\n",
    "import pyperclip\n",
    "import webbrowser\n",
    "import time\n",
    "\n",
    "destinatario = \"dorisdiaz1967@gmail.com\"\n",
    "asunto = \"Análisis de acciones últimos 6 meses\" \n",
    "\n",
    "mensaje = f\"\"\"\n",
    "Hola Amanda,\n",
    "\n",
    "Acá te envió el análsis de las acciones de los últimos 6 meses de {ticker}:\n",
    "\n",
    "Cotización máxima: USD {258.4}\n",
    "Cotización mínima: USD {172.19}\n",
    "Valor medio: USD {226.52}\n",
    "\n",
    "Cualquier cosa me cuentas ;)\n",
    "\n",
    "Javier,\n",
    "\"\"\"\n",
    "\n",
    "webbrowser.open(\"https://outlook.live.com/mail/0/\")\n",
    "\n",
    "time.sleep(4)\n",
    "\n",
    "pyautogui.PAUSE = 3\n",
    "\n",
    "pyautogui.click(142, 223)\n",
    "\n",
    "pyperclip.copy(destinatario)\n",
    "pyautogui.hotkey(\"ctrl\", \"v\")\n",
    "pyautogui.hotkey(\"tab\")\n",
    "\n",
    "pyperclip.copy(asunto)\n",
    "pyautogui.hotkey(\"ctrl\", \"v\")\n",
    "pyautogui.hotkey(\"tab\")\n",
    "\n",
    "pyperclip.copy(mensaje)\n",
    "pyautogui.hotkey(\"ctrl\", \"v\")\n",
    "\n",
    "pyautogui.click(670, 272)\n",
    "\n",
    "pyautogui.hotkey(\"ctrl\", \"f4\")"
   ]
  },
  {
   "cell_type": "code",
   "execution_count": 47,
   "id": "3067aa19",
   "metadata": {},
   "outputs": [
    {
     "data": {
      "text/plain": [
       "Point(x=670, y=272)"
      ]
     },
     "execution_count": 47,
     "metadata": {},
     "output_type": "execute_result"
    }
   ],
   "source": [
    "time.sleep(4)\n",
    "\n",
    "pyautogui.position()\n"
   ]
  }
 ],
 "metadata": {
  "kernelspec": {
   "display_name": "Python 3",
   "language": "python",
   "name": "python3"
  },
  "language_info": {
   "codemirror_mode": {
    "name": "ipython",
    "version": 3
   },
   "file_extension": ".py",
   "mimetype": "text/x-python",
   "name": "python",
   "nbconvert_exporter": "python",
   "pygments_lexer": "ipython3",
   "version": "3.12.10"
  }
 },
 "nbformat": 4,
 "nbformat_minor": 5
}
